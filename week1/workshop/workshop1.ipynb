{
 "cells": [
  {
   "cell_type": "code",
   "execution_count": 2,
   "id": "52d9adfa-8e5f-42ce-87cf-102589745168",
   "metadata": {},
   "outputs": [
    {
     "name": "stdout",
     "output_type": "stream",
     "text": [
      "Array:\n",
      "5\n",
      "Dimension: 0\n",
      "Data type: int64\n",
      "\n",
      "Array:\n",
      "[1 2 3]\n",
      "Dimension: 1\n",
      "Data type: int64\n",
      "\n",
      "Array:\n",
      "[[1 2]\n",
      " [3 4]]\n",
      "Dimension: 2\n",
      "Data type: int64\n",
      "\n"
     ]
    }
   ],
   "source": [
    "import numpy as np\n",
    "# Create and display zero, one, and n-dimensional arrays\n",
    "zero_dim_array = np.array(5)\n",
    "one_dim_array = np.array([1, 2, 3])\n",
    "n_dim_array = np.array([[1, 2], [3, 4]])\n",
    "for arr in [zero_dim_array, one_dim_array, n_dim_array]:\n",
    "    print(f\"Array:\\n{arr}\\nDimension: {arr.ndim}\\nData type: {arr.dtype}\\n\")"
   ]
  },
  {
   "cell_type": "code",
   "execution_count": 5,
   "id": "c2e4c876-9a7c-47e8-90c5-26556ce2fd97",
   "metadata": {},
   "outputs": [
    {
     "name": "stdout",
     "output_type": "stream",
     "text": [
      "0D Array:\n",
      "5\n",
      "Shape: ()\n",
      "\n",
      "1D Array:\n",
      "[1 2 3 4 5]\n",
      "Shape: (5,)\n",
      "\n",
      "2D Array:\n",
      "[[1 2 3]\n",
      " [4 5 6]]\n",
      "Shape: (2, 3)\n",
      "\n",
      "3D Array:\n",
      "[[[1 2]\n",
      "  [3 4]]\n",
      "\n",
      " [[5 6]\n",
      "  [7 8]]]\n",
      "Shape: (2, 2, 2)\n",
      "\n"
     ]
    }
   ],
   "source": [
    "import numpy as np\n",
    "# Create arrays of different dimensions\n",
    "array_0d = np.array(5)\n",
    "array_1d = np.array([1, 2, 3, 4, 5])\n",
    "array_2d = np.array([[1, 2, 3], [4, 5, 6]])\n",
    "array_3d = np.array([[[1, 2], [3, 4]], [[5, 6], [7, 8]]])\n",
    "# Print arrays with shapes\n",
    "for i, arr in enumerate([array_0d, array_1d, array_2d, array_3d]):\n",
    "    print(f\"{i}D Array:\\n{arr}\\nShape: {arr.shape}\\n\")"
   ]
  },
  {
   "cell_type": "code",
   "execution_count": 4,
   "id": "4e2f36bf-d582-402c-aee5-29bf5c754daf",
   "metadata": {},
   "outputs": [
    {
     "name": "stdout",
     "output_type": "stream",
     "text": [
      "Original Shape: (2, 3) \n",
      "Reshaped Shape: (3, 2)\n"
     ]
    }
   ],
   "source": [
    "import numpy as np\n",
    "array = np.array([[1, 2, 3], [4, 5, 6]]) # Shape (2, 3)\n",
    "reshaped_array = array.reshape(3, 2) # Reshape to (3, 2), keeping 6 elements\n",
    "print(\"Original Shape:\", array.shape, \"\\nReshaped Shape:\", reshaped_array.shape)"
   ]
  },
  {
   "cell_type": "code",
   "execution_count": 6,
   "id": "19f26e83-4f28-450b-a847-6b59c603a75b",
   "metadata": {},
   "outputs": [
    {
     "name": "stdout",
     "output_type": "stream",
     "text": [
      "[1 2 3 4 5 6 7 8 9]\n",
      "range(1, 10)\n",
      "[1, 2, 3, 4, 5, 6, 7, 8, 9]\n",
      "[ 0.  1.  2.  3.  4.  5.  6.  7.  8.  9. 10.]\n",
      "[ 0.5  1.3  2.1  2.9  3.7  4.5  5.3  6.1  6.9  7.7  8.5  9.3 10.1]\n"
     ]
    }
   ],
   "source": [
    "import numpy as np\n",
    "a = np.arange(1, 10)\n",
    "print(a)\n",
    "x = range(1, 10)\n",
    "print(x) # x is an iterator\n",
    "print(list(x))\n",
    "# further arange examples:\n",
    "x = np.arange(10.4)\n",
    "print(x)\n",
    "x = np.arange(0.5, 10.4, 0.8)\n",
    "print(x)"
   ]
  },
  {
   "cell_type": "code",
   "execution_count": 7,
   "id": "e6385dc0-2c1c-494e-96da-b5ec981d427f",
   "metadata": {},
   "outputs": [
    {
     "name": "stdout",
     "output_type": "stream",
     "text": [
      "[ 1.          1.18367347  1.36734694  1.55102041  1.73469388  1.91836735\n",
      "  2.10204082  2.28571429  2.46938776  2.65306122  2.83673469  3.02040816\n",
      "  3.20408163  3.3877551   3.57142857  3.75510204  3.93877551  4.12244898\n",
      "  4.30612245  4.48979592  4.67346939  4.85714286  5.04081633  5.2244898\n",
      "  5.40816327  5.59183673  5.7755102   5.95918367  6.14285714  6.32653061\n",
      "  6.51020408  6.69387755  6.87755102  7.06122449  7.24489796  7.42857143\n",
      "  7.6122449   7.79591837  7.97959184  8.16326531  8.34693878  8.53061224\n",
      "  8.71428571  8.89795918  9.08163265  9.26530612  9.44897959  9.63265306\n",
      "  9.81632653 10.        ]\n",
      "[ 1.   2.5  4.   5.5  7.   8.5 10. ]\n",
      "[1.         2.28571429 3.57142857 4.85714286 6.14285714 7.42857143\n",
      " 8.71428571]\n"
     ]
    }
   ],
   "source": [
    "import numpy as np\n",
    "# 50 values between 1 and 10:\n",
    "print(np.linspace(1, 10))\n",
    "# 7 values between 1 and 10:\n",
    "print(np.linspace(1, 10, 7))\n",
    "# excluding the endpoint:\n",
    "print(np.linspace(1, 10, 7, endpoint=False))"
   ]
  },
  {
   "cell_type": "code",
   "execution_count": 9,
   "id": "b3d0745a-e04c-4012-8266-2a392751215e",
   "metadata": {},
   "outputs": [
    {
     "name": "stdout",
     "output_type": "stream",
     "text": [
      "[[1. 1. 1.]\n",
      " [1. 1. 1.]]\n",
      "\n",
      "[[0. 0.]\n",
      " [0. 0.]\n",
      " [0. 0.]]\n",
      "\n",
      "[[0.00000000e+000 1.21918118e-311]\n",
      " [1.21918118e-311 1.21918118e-311]]\n",
      "\n",
      "[[1. 0. 0.]\n",
      " [0. 1. 0.]\n",
      " [0. 0. 1.]]\n"
     ]
    }
   ],
   "source": [
    "import numpy as np\n",
    "# Create arrays of specified shapes\n",
    "ones_array = np.ones((2, 3)) # Shape: (2, 3)\n",
    "zeros_array = np.zeros((3, 2)) # Shape: (3, 2)\n",
    "empty_array = np.empty((2, 2)) # Shape: (2, 2)\n",
    "identity_matrix = np.eye(3) # Shape: (3, 3)\n",
    "print(ones_array, zeros_array, empty_array, identity_matrix, sep='\\n\\n')"
   ]
  },
  {
   "cell_type": "code",
   "execution_count": 11,
   "id": "cc7fb1da-0b95-4413-b06f-fcd9280b8506",
   "metadata": {},
   "outputs": [
    {
     "name": "stdout",
     "output_type": "stream",
     "text": [
      "[1 2 3]\n",
      "[4 5 6]\n",
      "[[1 2 3]\n",
      " [4 5 6]]\n"
     ]
    }
   ],
   "source": [
    "import numpy as np\n",
    "array_from_list = np.array([1, 2, 3]) # [1 2 3]\n",
    "array_from_tuple = np.array((4, 5, 6)) # [4 5 6]\n",
    "array_from_nested_list = np.array([[1, 2, 3], [4, 5, 6]]) # [[1 2 3] [4 5 6]]\n",
    "print(array_from_list, array_from_tuple, array_from_nested_list, sep='\\n')"
   ]
  },
  {
   "cell_type": "code",
   "execution_count": 13,
   "id": "343b1849-9db7-4af9-91bc-258e1f505c36",
   "metadata": {},
   "outputs": [
    {
     "name": "stdout",
     "output_type": "stream",
     "text": [
      "[[1 2 3]\n",
      " [4 5 6]]\n",
      "[[0. 0. 0.]\n",
      " [0. 0. 0.]]\n",
      "[[1. 1. 1.]\n",
      " [1. 1. 1.]]\n",
      "[[0.00000000e+000 1.21919711e-311 0.00000000e+000]\n",
      " [0.00000000e+000 0.00000000e+000 0.00000000e+000]]\n"
     ]
    }
   ],
   "source": [
    "import numpy as np\n",
    "# Existing Array of Shape:(2,3)\n",
    "arr = np.array([[1, 2, 3], [4, 5, 6]])\n",
    "# Creating Array with Shape of existing array:\n",
    "zeros, ones, empty = np.zeros(arr.shape), np.ones(arr.shape), np.empty(arr.shape) # Shape: (2,3)\n",
    "print(arr, zeros, ones, empty, sep='\\n')"
   ]
  },
  {
   "cell_type": "code",
   "execution_count": 14,
   "id": "708e4e3d-498d-4004-9ffe-46847fb76cc2",
   "metadata": {},
   "outputs": [
    {
     "name": "stdout",
     "output_type": "stream",
     "text": [
      "[[1 2]\n",
      " [3 4]\n",
      " [5 6]\n",
      " [7 8]]\n",
      "[[1 2 5 6]\n",
      " [3 4 7 8]]\n"
     ]
    }
   ],
   "source": [
    "import numpy as np\n",
    "arr1 = np.array([[1, 2], [3, 4]]) # Shape: (2, 2)\n",
    "arr2 = np.array([[5, 6], [7, 8]]) # Shape: (2, 2)\n",
    "concat_axis0 = np.concatenate((arr1, arr2), axis=0)\n",
    "# Concatenate along axis 0 (vertical) Shape: (4, 2)\n",
    "concat_axis1 = np.concatenate((arr1, arr2), axis=1)\n",
    "# Concatenate along axis 1 (horizontal) Shape: (2, 4)\n",
    "print(concat_axis0, concat_axis1, sep='\\n')"
   ]
  },
  {
   "cell_type": "code",
   "execution_count": 15,
   "id": "b5b44ad5-ea7b-44a3-91c5-1a6151cb3b10",
   "metadata": {},
   "outputs": [
    {
     "name": "stdout",
     "output_type": "stream",
     "text": [
      "Basic: [1 2 3] [[3 4]\n",
      " [6 7]] [[[5]\n",
      "  [7]]]\n",
      "Step: [1 3] [[1]\n",
      " [7]] [[[1]]\n",
      "\n",
      " [[9]]]\n"
     ]
    }
   ],
   "source": [
    "import numpy as np\n",
    "# Arrays\n",
    "arr1d = np.array([0, 1, 2, 3, 4, 5])\n",
    "arr2d = np.array([[0, 1, 2], [3, 4, 5], [6, 7, 8]])\n",
    "arr3d = np.array([[[0, 1], [2, 3]], [[4, 5], [6, 7]], [[8, 9], [10, 11]]])\n",
    "# Slicing examples\n",
    "print(\"Basic:\", arr1d[1:4], arr2d[1:3, 0:2], arr3d[1:2, 0:2, 1:2])\n",
    "# Output Basic: arr1d:[1 2 3] arr2d:[[3 4] [6 7]] arr3d:[[[5] [7]]]\n",
    "print(\"Step:\", arr1d[1:5:2], arr2d[::2, 1::2], arr3d[::2, ::2, 1::2])\n",
    "# Output: Step: [1 3] [[1] [7]] [[[1] [9]]]"
   ]
  },
  {
   "cell_type": "code",
   "execution_count": 16,
   "id": "a9d8dc23-b517-4335-8051-6cd000372f93",
   "metadata": {},
   "outputs": [
    {
     "name": "stdout",
     "output_type": "stream",
     "text": [
      "Add: [5 7 9]\n",
      "Subtract: [-3 -3 -3]\n",
      "Divide: [0.25 0.4  0.5 ]\n",
      "Multiply: [ 4 10 18]\n",
      "Power: [  1  32 729]\n",
      "Exp: [ 2.71828183  7.3890561  20.08553692]\n"
     ]
    }
   ],
   "source": [
    "import numpy as np\n",
    "arr1 = np.array([1, 2, 3])\n",
    "arr2 = np.array([4, 5, 6])\n",
    "print(\"Add:\", np.add(arr1, arr2)) # Output Add: [5 7 9]\n",
    "print(\"Subtract:\", np.subtract(arr1, arr2))\n",
    "# Output Subtract: [-3 -3 -3]\n",
    "print(\"Divide:\", np.divide(arr1, arr2))\n",
    "# Output Divide: [0.25 0.4 0.5 ]\n",
    "print(\"Multiply:\", np.multiply(arr1, arr2))\n",
    "# Output Multiply: [ 4 10 18]\n",
    "print(\"Power:\", np.power(arr1, arr2))\n",
    "# Output Power: [ 1 32 729]\n",
    "print(\"Exp:\", np.exp(arr1))\n",
    "# Output Exp: [ 2.71828183 7.3890561 20.08553692]"
   ]
  },
  {
   "cell_type": "code",
   "execution_count": 17,
   "id": "7bd0a375-a9b8-4f8e-884a-dfb69b6d672d",
   "metadata": {},
   "outputs": [
    {
     "name": "stdout",
     "output_type": "stream",
     "text": [
      "Result with np.dot:\n",
      " [[ 58  64]\n",
      " [139 154]]\n"
     ]
    }
   ],
   "source": [
    "import numpy as np\n",
    "# Define two matrices\n",
    "A = np.array([[1, 2, 3], [4, 5, 6]])\n",
    "B = np.array([[7, 8], [9, 10], [11, 12]])\n",
    "# Matrix multiplication using np.dot\n",
    "result_dot = np.dot(A, B)\n",
    "print(\"Result with np.dot:\\n\", result_dot) # Output shape: (2, 2)"
   ]
  },
  {
   "cell_type": "code",
   "execution_count": 18,
   "id": "aa7261cb-1649-42a2-9f0a-21ad40c93f4a",
   "metadata": {},
   "outputs": [
    {
     "name": "stdout",
     "output_type": "stream",
     "text": [
      "Result with @ operator:\n",
      " [[ 58  64]\n",
      " [139 154]]\n",
      "Result with np.matmul:\n",
      " [[ 58  64]\n",
      " [139 154]]\n"
     ]
    }
   ],
   "source": [
    "import numpy as np\n",
    "# Define two matrices\n",
    "A = np.array([[1, 2, 3], [4, 5, 6]])\n",
    "B = np.array([[7, 8], [9, 10], [11, 12]])\n",
    "# Matrix multiplication using @ operator\n",
    "result_at = A @ B\n",
    "print(\"Result with @ operator:\\n\", result_at) # Output shape: (2, 2)\n",
    "# Matrix multiplication using np.matmul\n",
    "result_matmul = np.matmul(A, B)\n",
    "print(\"Result with np.matmul:\\n\", result_matmul) # Output shape: (2, 2)"
   ]
  },
  {
   "cell_type": "code",
   "execution_count": null,
   "id": "61ca1917-4ea7-4a21-86cb-4e93753dd121",
   "metadata": {},
   "outputs": [
    {
     "name": "stdout",
     "output_type": "stream",
     "text": [
      "Inverse:\n",
      " [[-2.   1. ]\n",
      " [ 1.5 -0.5]]\n",
      "Determinant: -2.0000000000000004\n",
      "Frobenius Norm: 5.477225575051661\n",
      "2-Norm (Euclidean): 5.477225575051661\n",
      "Solution x: [-4.   4.5]\n"
     ]
    }
   ],
   "source": [
    "import numpy as np\n",
    "A = np.array([[1, 2], [3, 4]])\n",
    "B = np.array([5, 6])\n",
    "print(\"Inverse:\\n\", np.linalg.inv(A))\n",
    "print(\"Determinant:\", np.linalg.det(A))\n",
    "print(\"Frobenius Norm:\", np.linalg.norm(A, 'fro'))\n",
    "print(\"2-Norm (Euclidean):\", np.linalg.norm(A))\n",
    "print(\"Solution x:\", np.linalg.solve(A, B))"
   ]
  },
  {
   "cell_type": "code",
   "execution_count": 22,
   "id": "859a7b0c-40e6-4f58-820c-625794dcabca",
   "metadata": {},
   "outputs": [
    {
     "name": "stdout",
     "output_type": "stream",
     "text": [
      "[[0. 0.]\n",
      " [0. 0.]]\n"
     ]
    }
   ],
   "source": [
    "#1. Initialize an empty array with size 2X2.\n",
    "import numpy as np\n",
    "array2x2 = np.zeros((2,2))\n",
    "print(array2x2)"
   ]
  },
  {
   "cell_type": "code",
   "execution_count": 23,
   "id": "3f90d3d8-9d0c-4a74-be5c-08ce69c9cc62",
   "metadata": {},
   "outputs": [
    {
     "name": "stdout",
     "output_type": "stream",
     "text": [
      "[[1. 1.]\n",
      " [1. 1.]\n",
      " [1. 1.]\n",
      " [1. 1.]]\n"
     ]
    }
   ],
   "source": [
    "#2. Initialize an all one array with size 4X2.\n",
    "import numpy as np\n",
    "array4x2 = np.ones((4,2))\n",
    "print(array4x2)"
   ]
  },
  {
   "cell_type": "code",
   "execution_count": 26,
   "id": "55afc7f2-88fb-4181-ad4f-cb401e6a2407",
   "metadata": {},
   "outputs": [
    {
     "name": "stdout",
     "output_type": "stream",
     "text": [
      "[[7 7 7 7 7 7]\n",
      " [7 7 7 7 7 7]\n",
      " [7 7 7 7 7 7]]\n"
     ]
    }
   ],
   "source": [
    "#3. Return a new array of given shape and type, filled with fill value.{Hint: np.full}\n",
    "import numpy as np\n",
    "array_filled = np.full((3, 6), 7, dtype=int)\n",
    "print(array_filled)\n"
   ]
  },
  {
   "cell_type": "code",
   "execution_count": 27,
   "id": "d5fa4c0f-a2bf-4f70-8790-bdb33d23898a",
   "metadata": {},
   "outputs": [
    {
     "name": "stdout",
     "output_type": "stream",
     "text": [
      "[[0 0 0 0 0 0]\n",
      " [0 0 0 0 0 0]\n",
      " [0 0 0 0 0 0]]\n"
     ]
    }
   ],
   "source": [
    "#4. Return a new array of zeros with same shape and type as a given array.{Hint: np.zeros like}\n",
    "import numpy as np\n",
    "array_zeros = np.zeros_like(array_filled)\n",
    "print(array_zeros)"
   ]
  },
  {
   "cell_type": "code",
   "execution_count": 28,
   "id": "3012c571-2867-414a-a336-293df11a48c9",
   "metadata": {},
   "outputs": [
    {
     "name": "stdout",
     "output_type": "stream",
     "text": [
      "[[1 1 1 1 1 1]\n",
      " [1 1 1 1 1 1]\n",
      " [1 1 1 1 1 1]]\n"
     ]
    }
   ],
   "source": [
    "#5. Return a new array of ones with same shape and type as a given array.{Hint: np.ones like}\n",
    "array_ones = np.ones_like(array_zeros)\n",
    "print(array_ones)"
   ]
  },
  {
   "cell_type": "code",
   "execution_count": 29,
   "id": "84bc2fb8-ca30-4184-a9bd-3bc2a310cfd5",
   "metadata": {},
   "outputs": [
    {
     "name": "stdout",
     "output_type": "stream",
     "text": [
      "new list:  [1, 2, 3, 4]\n",
      "numpy array:  [1 2 3 4]\n"
     ]
    }
   ],
   "source": [
    "#6. For an existing list new_list = [1,2,3,4] convert to an numpy array.{Hint: np.array()}\n",
    "new_list = [1,2,3,4]\n",
    "numpy_array = np.array(new_list)\n",
    "print(\"new list: \",new_list)\n",
    "print(\"numpy array: \",numpy_array)"
   ]
  },
  {
   "cell_type": "code",
   "execution_count": 30,
   "id": "9422b898-55e8-4151-8367-e140773a15f0",
   "metadata": {},
   "outputs": [
    {
     "name": "stdout",
     "output_type": "stream",
     "text": [
      "[10 11 12 13 14 15 16 17 18 19 20 21 22 23 24 25 26 27 28 29 30 31 32 33\n",
      " 34 35 36 37 38 39 40 41 42 43 44 45 46 47 48 49]\n"
     ]
    }
   ],
   "source": [
    "#1. Create an array with values ranging from 10 to 49. {Hint:np.arrange()}.\n",
    "array_with_values = np.arange(10,50)#gives a range from 10 to under 50 (49)\n",
    "print(array_with_values)"
   ]
  },
  {
   "cell_type": "code",
   "execution_count": 31,
   "id": "53fa619d-e322-4e37-8b2b-b187de9e8518",
   "metadata": {},
   "outputs": [
    {
     "name": "stdout",
     "output_type": "stream",
     "text": [
      "[[0 1 2]\n",
      " [3 4 5]\n",
      " [6 7 8]]\n"
     ]
    }
   ],
   "source": [
    "#2. Create a 3X3 matrix with values ranging from 0 to 8.{Hint:look for np.reshape()}\n",
    "array = np.arange(9)#single argument means the function puts value from 0 to whatever the argument is\n",
    "matrix3x3 = np.reshape(array,(3,3))#name of array, shape of matrix\n",
    "print(matrix3x3)"
   ]
  },
  {
   "cell_type": "code",
   "execution_count": 34,
   "id": "a54873b8-b339-4fed-9a8e-4c0f31038430",
   "metadata": {},
   "outputs": [
    {
     "name": "stdout",
     "output_type": "stream",
     "text": [
      "[[1. 0. 0.]\n",
      " [0. 1. 0.]\n",
      " [0. 0. 1.]]\n"
     ]
    }
   ],
   "source": [
    "#3. Create a 3X3 identity matrix.{Hint:np.eye()}\n",
    "identity_matrix = np.eye(3)\n",
    "print(identity_matrix)"
   ]
  },
  {
   "cell_type": "code",
   "execution_count": 35,
   "id": "dca9ce05-3906-4f3f-9086-4f12670e213e",
   "metadata": {},
   "outputs": [
    {
     "name": "stdout",
     "output_type": "stream",
     "text": [
      "random array =  [0.10913591 0.42663095 0.15288593 0.81014269 0.50557516 0.30639201\n",
      " 0.99581065 0.65648005 0.7708585  0.82916943 0.10585548 0.97900688\n",
      " 0.5670584  0.42552702 0.84001626 0.95362373 0.01301467 0.11172744\n",
      " 0.14346077 0.72213014 0.50480636 0.89216953 0.56129105 0.79848413\n",
      " 0.42166336 0.31613434 0.92446692 0.11049679 0.41723683 0.22020853]\n",
      "mean of the array =  0.519715330539528\n"
     ]
    }
   ],
   "source": [
    "#4. Create a random array of size 30 and find the mean of the array.{Hint:check for np.random.random() and array.mean() function}\n",
    "random_array = np.random.random(30)\n",
    "meanOfArray = np.mean(random_array)\n",
    "print(\"random array = \",random_array)\n",
    "print(\"mean of the array = \",meanOfArray)"
   ]
  },
  {
   "cell_type": "code",
   "execution_count": 44,
   "id": "747c153f-fa01-40a0-b0cc-5bc2ad09054f",
   "metadata": {},
   "outputs": [
    {
     "name": "stdout",
     "output_type": "stream",
     "text": [
      "Random 10x10 array: [0.925765   0.36457456 0.34980399 0.80669684 0.95015189 0.79572269\n",
      " 0.58147418 0.5304224  0.92690726 0.46556101 0.11784666 0.18586517\n",
      " 0.12564701 0.35390353 0.46344172 0.849877   0.51804496 0.0252568\n",
      " 0.39384847 0.53861349 0.97298342 0.80192195 0.81550337 0.28761005\n",
      " 0.64022017 0.53903798 0.55831267 0.02947842 0.07198186 0.04902331\n",
      " 0.77381251 0.4461732  0.23372876 0.37768658 0.47315659 0.21151411\n",
      " 0.69326068 0.04190348 0.73600471 0.90030482 0.69638718 0.32721586\n",
      " 0.88769946 0.11704152 0.15009084 0.92755579 0.5916897  0.15058237\n",
      " 0.69810637 0.72241633 0.21727884 0.16379078 0.9954794  0.3286131\n",
      " 0.35176819 0.45432821 0.65709932 0.22286418 0.16711403 0.68202658\n",
      " 0.01662247 0.5629465  0.04267405 0.90151916 0.76758836 0.04550291\n",
      " 0.8856149  0.56036359 0.60906428 0.52096398 0.99613593 0.45957146\n",
      " 0.54970059 0.65570535 0.76656172 0.66373239 0.35498621 0.590813\n",
      " 0.47490151 0.30631275 0.84114957 0.09037449 0.05667779 0.13149981\n",
      " 0.20472625 0.893107   0.90193849 0.61725251 0.40919916 0.64200689\n",
      " 0.75319698 0.76119583 0.25246489 0.07412949 0.5352246  0.72800384\n",
      " 0.1355265  0.73330241 0.12421414 0.75025072]\n",
      "\n",
      "10x10 matrix:\n",
      " [[0.925765   0.36457456 0.34980399 0.80669684 0.95015189 0.79572269\n",
      "  0.58147418 0.5304224  0.92690726 0.46556101]\n",
      " [0.11784666 0.18586517 0.12564701 0.35390353 0.46344172 0.849877\n",
      "  0.51804496 0.0252568  0.39384847 0.53861349]\n",
      " [0.97298342 0.80192195 0.81550337 0.28761005 0.64022017 0.53903798\n",
      "  0.55831267 0.02947842 0.07198186 0.04902331]\n",
      " [0.77381251 0.4461732  0.23372876 0.37768658 0.47315659 0.21151411\n",
      "  0.69326068 0.04190348 0.73600471 0.90030482]\n",
      " [0.69638718 0.32721586 0.88769946 0.11704152 0.15009084 0.92755579\n",
      "  0.5916897  0.15058237 0.69810637 0.72241633]\n",
      " [0.21727884 0.16379078 0.9954794  0.3286131  0.35176819 0.45432821\n",
      "  0.65709932 0.22286418 0.16711403 0.68202658]\n",
      " [0.01662247 0.5629465  0.04267405 0.90151916 0.76758836 0.04550291\n",
      "  0.8856149  0.56036359 0.60906428 0.52096398]\n",
      " [0.99613593 0.45957146 0.54970059 0.65570535 0.76656172 0.66373239\n",
      "  0.35498621 0.590813   0.47490151 0.30631275]\n",
      " [0.84114957 0.09037449 0.05667779 0.13149981 0.20472625 0.893107\n",
      "  0.90193849 0.61725251 0.40919916 0.64200689]\n",
      " [0.75319698 0.76119583 0.25246489 0.07412949 0.5352246  0.72800384\n",
      "  0.1355265  0.73330241 0.12421414 0.75025072]]\n",
      "\n",
      "Minimum value: 0.01662247376550441\n",
      "Maximum value: 0.9961359268844049\n"
     ]
    }
   ],
   "source": [
    "#5. Create a 10X10 array with random values and find the minimum and maximum values.\n",
    "import numpy as np\n",
    "\n",
    "# Create a 10x10 array with random values\n",
    "array10x10 = np.random.random(100)\n",
    "\n",
    "# Reshape the array into a 10x10 matrix\n",
    "matrix10x10 = np.reshape(array10x10, (10, 10))\n",
    "\n",
    "# Find the minimum and maximum values\n",
    "min_value = matrix10x10.min()\n",
    "max_value = matrix10x10.max()\n",
    "\n",
    "# Print the array, matrix, minimum value, and maximum value\n",
    "print(\"Random 10x10 array:\", array10x10)\n",
    "print(\"\\n10x10 matrix:\\n\", matrix10x10)\n",
    "print(\"\\nMinimum value:\", min_value)\n",
    "print(\"Maximum value:\", max_value)"
   ]
  },
  {
   "cell_type": "code",
   "execution_count": 47,
   "id": "9d064d60-34ed-453a-b0f4-e53a5cc4f23e",
   "metadata": {},
   "outputs": [
    {
     "name": "stdout",
     "output_type": "stream",
     "text": [
      "[0. 0. 0. 0. 1. 0. 0. 0. 0. 0.]\n"
     ]
    }
   ],
   "source": [
    "#6. Create a zero array of size 10 and replace 5th element with 1.\n",
    "array = np.zeros(10)\n",
    "array[4] = 1\n",
    "print(array)"
   ]
  },
  {
   "cell_type": "code",
   "execution_count": 49,
   "id": "97970958-1199-41f6-b270-0a55eb18db01",
   "metadata": {},
   "outputs": [
    {
     "name": "stdout",
     "output_type": "stream",
     "text": [
      "[0 4 0 0 2 1]\n"
     ]
    }
   ],
   "source": [
    "#7. Reverse an array arr = [1,2,0,0,4,0].\n",
    "arr = [1,2,0,0,4,0]\n",
    "reversed_arr = np.flip(arr)#flips arr\n",
    "print(reversed_arr)"
   ]
  },
  {
   "cell_type": "code",
   "execution_count": 50,
   "id": "11f5c2fe-c763-43a9-b247-09e2756cc05f",
   "metadata": {},
   "outputs": [
    {
     "name": "stdout",
     "output_type": "stream",
     "text": [
      "[[1 1 1 1 1]\n",
      " [1 0 0 0 1]\n",
      " [1 0 0 0 1]\n",
      " [1 0 0 0 1]\n",
      " [1 1 1 1 1]]\n"
     ]
    }
   ],
   "source": [
    "#8. Create a 2d array with 1 on border and 0 inside.\n",
    "import numpy as np\n",
    "\n",
    "# Define the size of the 2D array\n",
    "rows, cols = 5, 5\n",
    "\n",
    "# Create an array filled with ones\n",
    "array = np.ones((rows, cols), dtype=int)\n",
    "\n",
    "# Fill the inside with zeros\n",
    "array[1:-1, 1:-1] = 0\n",
    "\n",
    "# Print the array\n",
    "print(array)\n"
   ]
  },
  {
   "cell_type": "code",
   "execution_count": 51,
   "id": "7e97ecc6-aa63-4bab-b3e1-8f2957f042a9",
   "metadata": {},
   "outputs": [
    {
     "name": "stdout",
     "output_type": "stream",
     "text": [
      "[[0 1 0 1 0 1 0 1]\n",
      " [1 0 1 0 1 0 1 0]\n",
      " [0 1 0 1 0 1 0 1]\n",
      " [1 0 1 0 1 0 1 0]\n",
      " [0 1 0 1 0 1 0 1]\n",
      " [1 0 1 0 1 0 1 0]\n",
      " [0 1 0 1 0 1 0 1]\n",
      " [1 0 1 0 1 0 1 0]]\n"
     ]
    }
   ],
   "source": [
    "#9. Create a 8X8 matrix and fill it with a checkerboard pattern.\n",
    "import numpy as np\n",
    "\n",
    "# Create an 8x8 matrix\n",
    "checkerboard = np.zeros((8, 8), dtype=int)\n",
    "\n",
    "# Fill the matrix with a checkerboard pattern\n",
    "checkerboard[1::2, ::2] = 1\n",
    "checkerboard[::2, 1::2] = 1\n",
    "\n",
    "# Print the checkerboard pattern\n",
    "print(checkerboard)\n"
   ]
  },
  {
   "cell_type": "code",
   "execution_count": 59,
   "id": "eb216801-123d-4b43-b216-5fbd1b299ac8",
   "metadata": {},
   "outputs": [
    {
     "name": "stdout",
     "output_type": "stream",
     "text": [
      "[[1 2]\n",
      " [3 5]\n",
      " [5 6]\n",
      " [7 8]]\n",
      "[ 9 10 11 12]\n"
     ]
    }
   ],
   "source": [
    "#For the following arrays:\n",
    "x = np.array([[1,2],[3,5]]) \n",
    "y = np.array([[5,6],[7,8]]);\n",
    "v = np.array([9,10])\n",
    "w = np.array([11,12]);\n",
    "#1. Add the two array.\n",
    "x_y_concat = np.concatenate((x,y),axis = 0)\n",
    "v_w_concat = np.concatenate((v,w))\n",
    "print(x_y_concat)\n",
    "print(v_w_concat)"
   ]
  },
  {
   "cell_type": "code",
   "execution_count": 60,
   "id": "bf16070c-710c-4329-865a-e15f3753fe9c",
   "metadata": {},
   "outputs": [
    {
     "name": "stdout",
     "output_type": "stream",
     "text": [
      "x - y:\n",
      " [[-4 -4]\n",
      " [-4 -3]]\n",
      "v - w: [-2 -2]\n"
     ]
    }
   ],
   "source": [
    "#2. Subtract the two array.\n",
    "# Subtract the arrays\n",
    "x_y_subtract = x - y\n",
    "v_w_subtract = v - w\n",
    "# Print the results\n",
    "print(\"x - y:\\n\", x_y_subtract)\n",
    "print(\"v - w:\", v_w_subtract)"
   ]
  },
  {
   "cell_type": "code",
   "execution_count": 62,
   "id": "6045ab74-93ed-48ab-ba47-37d7e05daa34",
   "metadata": {},
   "outputs": [
    {
     "name": "stdout",
     "output_type": "stream",
     "text": [
      "x multiplied by 3 :\n",
      " [[ 3  6]\n",
      " [ 9 15]]\n",
      "y multiplied by 3 :\n",
      " [[15 18]\n",
      " [21 24]]\n",
      "v multiplied by 3 : [27 30]\n",
      "w multiplied by 3 : [33 36]\n"
     ]
    }
   ],
   "source": [
    "#3. Multiply the array with any integers of your choice.\n",
    "\n",
    "x_multiplied = x * 3\n",
    "y_multiplied = y * 3\n",
    "v_multiplied = v * 3\n",
    "w_multiplied = w * 3\n",
    "\n",
    "# Print the results\n",
    "print(\"x multiplied by\", 3, \":\\n\", x_multiplied)\n",
    "print(\"y multiplied by\", 3, \":\\n\", y_multiplied)\n",
    "print(\"v multiplied by\", 3, \":\", v_multiplied)\n",
    "print(\"w multiplied by\", 3, \":\", w_multiplied)\n"
   ]
  },
  {
   "cell_type": "code",
   "execution_count": 63,
   "id": "ad2be46c-c528-4413-a393-91d1c634887c",
   "metadata": {},
   "outputs": [
    {
     "name": "stdout",
     "output_type": "stream",
     "text": [
      "\n",
      "Using np.square:\n",
      "Square of each element in x:\n",
      " [[ 1  4]\n",
      " [ 9 25]]\n",
      "Square of each element in y:\n",
      " [[25 36]\n",
      " [49 64]]\n",
      "Square of each element in v: [ 81 100]\n",
      "Square of each element in w: [121 144]\n"
     ]
    }
   ],
   "source": [
    "#4. Find the square of each element of the array.\n",
    "# Find the square of each element using `np.square`\n",
    "x_squared_np = np.square(x)\n",
    "y_squared_np = np.square(y)\n",
    "v_squared_np = np.square(v)\n",
    "w_squared_np = np.square(w)\n",
    "\n",
    "# Print the results using `np.square`\n",
    "print(\"\\nUsing np.square:\")\n",
    "print(\"Square of each element in x:\\n\", x_squared_np)\n",
    "print(\"Square of each element in y:\\n\", y_squared_np)\n",
    "print(\"Square of each element in v:\", v_squared_np)\n",
    "print(\"Square of each element in w:\", w_squared_np)"
   ]
  },
  {
   "cell_type": "code",
   "execution_count": 64,
   "id": "f0fc30a2-4bd4-43a5-ac63-4b3ad3ee9381",
   "metadata": {},
   "outputs": [
    {
     "name": "stdout",
     "output_type": "stream",
     "text": [
      "Dot product between v and w: 219\n",
      "Dot product between x and v:\n",
      " [29 77]\n",
      "Dot product between x and y:\n",
      " [[19 22]\n",
      " [50 58]]\n"
     ]
    }
   ],
   "source": [
    "#5. Find the dot product between: v(and)w ; x(and)v ; x(and)y.\n",
    "\n",
    "# Calculate the dot products\n",
    "dot_product_v_w = np.dot(v, w)\n",
    "dot_product_x_v = np.dot(x, v)\n",
    "dot_product_x_y = np.dot(x, y)\n",
    "\n",
    "# Print the results\n",
    "print(\"Dot product between v and w:\", dot_product_v_w)\n",
    "print(\"Dot product between x and v:\\n\", dot_product_x_v)\n",
    "print(\"Dot product between x and y:\\n\", dot_product_x_y)\n"
   ]
  },
  {
   "cell_type": "code",
   "execution_count": 65,
   "id": "db6d295f-b505-4d0b-9080-75d9fbad1896",
   "metadata": {},
   "outputs": [
    {
     "name": "stdout",
     "output_type": "stream",
     "text": [
      "Concatenate x and y along rows:\n",
      " [[1 2]\n",
      " [3 5]\n",
      " [5 6]\n",
      " [7 8]]\n",
      "Concatenate v and w along columns:\n",
      " [[ 9 11]\n",
      " [10 12]]\n"
     ]
    }
   ],
   "source": [
    "#6. Concatenate x(and)y along row and Concatenate v(and)w along column.{Hint:try np.concatenate() or np.vstack() functions.\n",
    "# Concatenate along rows (axis=0)\n",
    "xy_concat_rows = np.concatenate((x, y), axis=0)\n",
    "\n",
    "# Print the result\n",
    "print(\"Concatenate x and y along rows:\\n\", xy_concat_rows)\n",
    "\n",
    "# Stack them as columns\n",
    "vw_concat_columns = np.vstack((v, w)).T\n",
    "\n",
    "# Print the result\n",
    "print(\"Concatenate v and w along columns:\\n\", vw_concat_columns)\n"
   ]
  },
  {
   "cell_type": "code",
   "execution_count": 66,
   "id": "456f1124-a353-4cac-bb82-97e8390d872e",
   "metadata": {},
   "outputs": [
    {
     "name": "stdout",
     "output_type": "stream",
     "text": [
      "Error: all the input arrays must have same number of dimensions, but the array at index 0 has 2 dimension(s) and the array at index 1 has 1 dimension(s)\n"
     ]
    }
   ],
   "source": [
    "# Concatenate x and v\n",
    "try:\n",
    "    xv_concat = np.concatenate((x, v))\n",
    "    print(\"Concatenate x and v:\\n\", xv_concat)\n",
    "except ValueError as e:\n",
    "    print(\"Error:\", e)\n"
   ]
  },
  {
   "cell_type": "code",
   "execution_count": 74,
   "id": "0aca9783-95d0-4106-bdad-b8a9fb8fb11c",
   "metadata": {},
   "outputs": [
    {
     "name": "stdout",
     "output_type": "stream",
     "text": [
      "I = \n",
      " [[1. 0.]\n",
      " [0. 1.]]\n",
      "A.A-1 = \n",
      " [[1.00000000e+00 0.00000000e+00]\n",
      " [1.77635684e-15 1.00000000e+00]] \n",
      "\n",
      "AB = \n",
      " [[23 13]\n",
      " [51 29]]\n",
      "BA = \n",
      " [[36 44]\n",
      " [13 16]] \n",
      "\n",
      "(AB)^T =\n",
      " [[23 51]\n",
      " [13 29]]\n",
      "B^T A^T =\n",
      " [[23 51]\n",
      " [13 29]]\n"
     ]
    }
   ],
   "source": [
    "#For the following arrays:\n",
    "A = np.array([[3,4],[7,8]])\n",
    "B = np.array([[5,3],[2,1]]);\n",
    "#Prove following with Numpy:\n",
    "#1. Prove A.A−1 = I.\n",
    "I = np.eye(2)\n",
    "A_ = np.linalg.inv(A)\n",
    "Result = np.dot(A,A_)\n",
    "print(\"I = \\n\",I)\n",
    "print(\"A.A-1 = \\n\",Result,\"\\n\")\n",
    "    \n",
    "#2. Prove AB ̸= BA.\n",
    "AB = np.dot(A,B)\n",
    "BA = np.dot(B,A)\n",
    "print(\"AB = \\n\",AB)\n",
    "print(\"BA = \\n\",BA,\"\\n\")\n",
    "#3. Prove (AB)T = BTAT\n",
    "# Calculate (AB)^T\n",
    "AB_T = np.transpose(AB)\n",
    "\n",
    "# Calculate B^T\n",
    "B_T = np.transpose(B)\n",
    "\n",
    "# Calculate A^T\n",
    "A_T = np.transpose(A)\n",
    "\n",
    "# Calculate B^T A^T\n",
    "BT_AT = np.dot(B_T, A_T)\n",
    "\n",
    "# Print the results\n",
    "print(\"(AB)^T =\\n\", AB_T)\n",
    "print(\"B^T A^T =\\n\", BT_AT)\n"
   ]
  },
  {
   "cell_type": "code",
   "execution_count": 77,
   "id": "3131e3fd-4352-4c9e-89ad-26b757359d6c",
   "metadata": {},
   "outputs": [
    {
     "name": "stdout",
     "output_type": "stream",
     "text": [
      "(x, y, z) =  [ 2.  1. -2.]\n"
     ]
    }
   ],
   "source": [
    "#Solve the following system of Linear equation using Inverse Methods.\n",
    "\n",
    "#2x − 3y + z = −1\n",
    "#x − y + 2z = −3\n",
    "#3x + y − z = 9\n",
    "\n",
    "# Define the matrices A and B\n",
    "A = np.array([\n",
    "    [2, -3, 1],\n",
    "    [1, -1, 2],\n",
    "    [3, 1, -1]\n",
    "])\n",
    "\n",
    "B = np.array([-1, -3, 9])\n",
    "\n",
    "# Calculate the inverse of A\n",
    "A_inv = np.linalg.inv(A)\n",
    "\n",
    "# Multiply the inverse of A with B to find X\n",
    "X = np.dot(A_inv, B)\n",
    "\n",
    "# Print the result\n",
    "print(\"(x, y, z) = \", X)\n"
   ]
  },
  {
   "cell_type": "code",
   "execution_count": 78,
   "id": "295a6b42-1320-45ad-ab17-b69844ad43b7",
   "metadata": {},
   "outputs": [
    {
     "name": "stdout",
     "output_type": "stream",
     "text": [
      "(x, y, z) =  [ 2.  1. -2.]\n"
     ]
    }
   ],
   "source": [
    "#Now: solve the above equation using np.linalg.inv function.{Explore more about ”linalg” function of Numpy}\n",
    "import numpy as np\n",
    "\n",
    "# Define the coefficient matrix A and the constant matrix B\n",
    "A = np.array([\n",
    "    [2, -3, 1],\n",
    "    [1, -1, 2],\n",
    "    [3, 1, -1]\n",
    "])\n",
    "\n",
    "B = np.array([-1, -3, 9])\n",
    "\n",
    "# Calculate the inverse of A using np.linalg.inv\n",
    "A_inv = np.linalg.inv(A)\n",
    "\n",
    "# Solve for X using the inverse of A\n",
    "X = np.dot(A_inv, B)\n",
    "\n",
    "# Print the result\n",
    "print(\"(x, y, z) = \", X)\n"
   ]
  },
  {
   "cell_type": "code",
   "execution_count": 80,
   "id": "1974adcc-0c8c-4dcf-875d-0365a04f442f",
   "metadata": {},
   "outputs": [
    {
     "name": "stdout",
     "output_type": "stream",
     "text": [
      "Time taken using Python lists: 0.18282198905944824 seconds\n"
     ]
    }
   ],
   "source": [
    "#• Using Python Lists, perform element-wise addition of two lists of size 1, 000, 000. Measure and Print the time taken for this operation.\n",
    "import time\n",
    "\n",
    "# Create two lists of size 1,000,000\n",
    "list1 = [i for i in range(1000000)]\n",
    "list2 = [i for i in range(1000000)]\n",
    "\n",
    "# Measure the time taken for element-wise addition\n",
    "start_time = time.time()\n",
    "list_sum = [list1[i] + list2[i] for i in range(1000000)]\n",
    "end_time = time.time()\n",
    "\n",
    "# Print the time taken\n",
    "print(\"Time taken using Python lists:\", end_time - start_time, \"seconds\")\n"
   ]
  },
  {
   "cell_type": "code",
   "execution_count": 81,
   "id": "26f02f36-c00b-4428-b064-50782debca2e",
   "metadata": {},
   "outputs": [
    {
     "name": "stdout",
     "output_type": "stream",
     "text": [
      "Time taken using NumPy arrays: 0.0040204524993896484 seconds\n"
     ]
    }
   ],
   "source": [
    "#Using Numpy Arrays, Repeat the calculation and measure and print the time taken for this operation.\n",
    "import numpy as np\n",
    "import time\n",
    "\n",
    "# Create two NumPy arrays of size 1,000,000\n",
    "array1 = np.arange(1000000)\n",
    "array2 = np.arange(1000000)\n",
    "\n",
    "# Measure the time taken for element-wise addition\n",
    "start_time = time.time()\n",
    "array_sum = array1 + array2\n",
    "end_time = time.time()\n",
    "\n",
    "# Print the time taken\n",
    "print(\"Time taken using NumPy arrays:\", end_time - start_time, \"seconds\")\n"
   ]
  },
  {
   "cell_type": "code",
   "execution_count": 82,
   "id": "175a54fb-63aa-466f-93c9-2116cfe33ec1",
   "metadata": {},
   "outputs": [
    {
     "name": "stdout",
     "output_type": "stream",
     "text": [
      "Time taken using Python lists: 0.19166278839111328 seconds\n"
     ]
    }
   ],
   "source": [
    "#• Using Python Lists, perform element-wise multiplication of two lists of size 1, 000, 000. Measure and Print the time taken for this operation.\n",
    "import time\n",
    "\n",
    "# Create two lists of size 1,000,000\n",
    "list1 = [i for i in range(1000000)]\n",
    "list2 = [i for i in range(1000000)]\n",
    "\n",
    "# Measure the time taken for element-wise multiplication\n",
    "start_time = time.time()\n",
    "list_product = [list1[i] * list2[i] for i in range(1000000)]\n",
    "end_time = time.time()\n",
    "\n",
    "# Print the time taken\n",
    "print(\"Time taken using Python lists:\", end_time - start_time, \"seconds\")\n"
   ]
  },
  {
   "cell_type": "code",
   "execution_count": 83,
   "id": "162cdec7-e208-4723-ab92-3dc862ecbb3f",
   "metadata": {},
   "outputs": [
    {
     "name": "stdout",
     "output_type": "stream",
     "text": [
      "Time taken using NumPy arrays: 0.0034220218658447266 seconds\n"
     ]
    }
   ],
   "source": [
    "#Using Numpy Arrays, Repeat the calculation and measure and print the time taken for this operation.\n",
    "import numpy as np\n",
    "import time\n",
    "\n",
    "# Create two NumPy arrays of size 1,000,000\n",
    "array1 = np.arange(1000000)\n",
    "array2 = np.arange(1000000)\n",
    "\n",
    "# Measure the time taken for element-wise multiplication\n",
    "start_time = time.time()\n",
    "array_product = array1 * array2\n",
    "end_time = time.time()\n",
    "\n",
    "# Print the time taken\n",
    "print(\"Time taken using NumPy arrays:\", end_time - start_time, \"seconds\")\n"
   ]
  },
  {
   "cell_type": "code",
   "execution_count": 84,
   "id": "5488971e-2356-4aec-adae-0092853ccd97",
   "metadata": {},
   "outputs": [
    {
     "name": "stdout",
     "output_type": "stream",
     "text": [
      "Dot product using Python lists: 333332833333500000\n",
      "Time taken using Python lists: 0.19921636581420898 seconds\n"
     ]
    }
   ],
   "source": [
    "#Using Python Lists, compute the dot product of two lists of size 1, 000, 000. Measure and Print the time taken for this operation.\n",
    "import time\n",
    "\n",
    "# Create two lists of size 1,000,000\n",
    "list1 = [i for i in range(1000000)]\n",
    "list2 = [i for i in range(1000000)]\n",
    "\n",
    "# Measure the time taken to compute the dot product\n",
    "start_time = time.time()\n",
    "dot_product = sum(list1[i] * list2[i] for i in range(1000000))\n",
    "end_time = time.time()\n",
    "\n",
    "# Print the time taken and the result\n",
    "print(\"Dot product using Python lists:\", dot_product)\n",
    "print(\"Time taken using Python lists:\", end_time - start_time, \"seconds\")\n"
   ]
  },
  {
   "cell_type": "code",
   "execution_count": 85,
   "id": "4697ca93-37e0-413b-856b-f8060d0f9aa8",
   "metadata": {},
   "outputs": [
    {
     "name": "stdout",
     "output_type": "stream",
     "text": [
      "Dot product using NumPy arrays: 333332833333500000\n",
      "Time taken using NumPy arrays: 0.0019469261169433594 seconds\n"
     ]
    }
   ],
   "source": [
    "#Using Numpy Arrays, Repeat the calculation and measure and print the time taken for this operation.\n",
    "import numpy as np\n",
    "import time\n",
    "\n",
    "# Create two NumPy arrays of size 1,000,000\n",
    "array1 = np.arange(1000000)\n",
    "array2 = np.arange(1000000)\n",
    "\n",
    "# Measure the time taken to compute the dot product\n",
    "start_time = time.time()\n",
    "dot_product_np = np.dot(array1, array2)\n",
    "end_time = time.time()\n",
    "\n",
    "# Print the time taken and the result\n",
    "print(\"Dot product using NumPy arrays:\", dot_product_np)\n",
    "print(\"Time taken using NumPy arrays:\", end_time - start_time, \"seconds\")\n"
   ]
  },
  {
   "cell_type": "code",
   "execution_count": 3,
   "id": "6d37a1a8-279d-40bc-9ffe-41f8ab1733d1",
   "metadata": {},
   "outputs": [
    {
     "name": "stdout",
     "output_type": "stream",
     "text": [
      "Time taken using Python lists: 185.5761 seconds\n"
     ]
    }
   ],
   "source": [
    "#Using Python lists, perform matrix multiplication of two matrices of size 1000x1000. Measure and print the time taken for this operation.\n",
    "import time\n",
    "\n",
    "# Create two 1000x1000 matrices using Python lists\n",
    "matrix1 = [[i for i in range(1000)] for j in range(1000)]\n",
    "matrix2 = [[i for i in range(1000)] for j in range(1000)]\n",
    "\n",
    "# Measure the time taken for matrix multiplication\n",
    "start_time = time.time()\n",
    "\n",
    "result = [[sum(matrix1[i][k] * matrix2[k][j] for k in range(1000)) for j in range(1000)] for i in range(1000)]\n",
    "\n",
    "end_time = time.time()\n",
    "\n",
    "# Print the time taken\n",
    "print(\"Time taken using Python lists: {:.4f} seconds\".format(end_time - start_time))\n"
   ]
  },
  {
   "cell_type": "code",
   "execution_count": 1,
   "id": "4339efe7-a539-4c77-84c9-119407db0f32",
   "metadata": {},
   "outputs": [
    {
     "name": "stdout",
     "output_type": "stream",
     "text": [
      "Time taken using NumPy arrays: 1.5370 seconds\n"
     ]
    }
   ],
   "source": [
    "#• Using NumPy arrays, perform matrix multiplication of two matrices of size 1000x1000. Measure and print the time taken for this operation.\n",
    "import numpy as np\n",
    "import time\n",
    "\n",
    "# Create two 1000x1000 matrices using NumPy arrays\n",
    "matrix1 = np.random.randint(0, 100, size=(1000, 1000))\n",
    "matrix2 = np.random.randint(0, 100, size=(1000, 1000))\n",
    "\n",
    "# Measure the time taken for matrix multiplication\n",
    "start_time = time.time()\n",
    "\n",
    "result = np.dot(matrix1, matrix2)\n",
    "\n",
    "end_time = time.time()\n",
    "\n",
    "# Print the time taken\n",
    "print(\"Time taken using NumPy arrays: {:.4f} seconds\".format(end_time - start_time))\n"
   ]
  },
  {
   "cell_type": "code",
   "execution_count": null,
   "id": "875d8bf1-a86b-4d92-bf08-1d4fffab7dae",
   "metadata": {},
   "outputs": [],
   "source": []
  }
 ],
 "metadata": {
  "kernelspec": {
   "display_name": "Python 3",
   "language": "python",
   "name": "python3"
  },
  "language_info": {
   "codemirror_mode": {
    "name": "ipython",
    "version": 3
   },
   "file_extension": ".py",
   "mimetype": "text/x-python",
   "name": "python",
   "nbconvert_exporter": "python",
   "pygments_lexer": "ipython3",
   "version": "3.12.6"
  }
 },
 "nbformat": 4,
 "nbformat_minor": 5
}
